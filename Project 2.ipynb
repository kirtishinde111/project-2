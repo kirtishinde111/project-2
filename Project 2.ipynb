{
 "cells": [
  {
   "cell_type": "code",
   "execution_count": null,
   "id": "d26e8886",
   "metadata": {},
   "outputs": [
    {
     "name": "stdout",
     "output_type": "stream",
     "text": [
      "\n",
      "1. Add Task\n",
      "2. Edit Task\n",
      "3. Delete Task\n",
      "4. Mark Task Complete\n",
      "5. View Tasks\n",
      "6. Save and Exit\n"
     ]
    }
   ],
   "source": [
    "#Project Name: Task Manager\n",
    "tasks = []\n",
    "\n",
    "def add_task(task):\n",
    "    tasks.append({\"task\": task, \"status\": \"incomplete\"})\n",
    "\n",
    "def edit_task(index, new_task):\n",
    "    tasks[index][\"task\"] = new_task\n",
    "\n",
    "def delete_task(index):\n",
    "    tasks.pop(index)\n",
    "\n",
    "def mark_complete(index):\n",
    "    tasks[index][\"status\"] = \"complete\"\n",
    "\n",
    "def display_tasks():\n",
    "    if not tasks:\n",
    "        print(\"No tasks available.\")\n",
    "    for i, task in enumerate(tasks):\n",
    "        status = \"Complete\" if task[\"status\"] == \"complete\" else \"Incomplete\"\n",
    "        print(f\"{i+1}. {task['task']} - {status}\")\n",
    "\n",
    "        \n",
    "import json\n",
    "\n",
    "def save_tasks_to_file():\n",
    "    with open('tasks.json', 'w') as file:\n",
    "        json.dump(tasks, file)\n",
    "\n",
    "def load_tasks_from_file():\n",
    "    global tasks\n",
    "    try:\n",
    "        with open('tasks.json', 'r') as file:\n",
    "            tasks = json.load(file)\n",
    "    except FileNotFoundError:\n",
    "        tasks = []\n",
    "        \n",
    "        \n",
    "def main():\n",
    "    load_tasks_from_file()\n",
    "    while True:\n",
    "        print(\"\\n1. Add Task\\n2. Edit Task\\n3. Delete Task\\n4. Mark Task Complete\\n5. View Tasks\\n6. Save and Exit\")\n",
    "        choice = input(\"Choose an option: \")\n",
    "\n",
    "        if choice == '1':\n",
    "            task = input(\"Enter the task: \")\n",
    "            add_task(task)\n",
    "        elif choice == '2':\n",
    "            display_tasks()\n",
    "            index = int(input(\"Enter the task number to edit: \")) - 1\n",
    "            new_task = input(\"Enter the new task: \")\n",
    "            edit_task(index, new_task)\n",
    "        elif choice == '3':\n",
    "            display_tasks()\n",
    "            index = int(input(\"Enter the task number to delete: \")) - 1\n",
    "            delete_task(index)\n",
    "        elif choice == '4':\n",
    "            display_tasks()\n",
    "            index = int(input(\"Enter the task number to mark as complete: \")) - 1\n",
    "            mark_complete(index)\n",
    "        elif choice == '5':\n",
    "            display_tasks()\n",
    "        elif choice == '6':\n",
    "            save_tasks_to_file()\n",
    "            print(\"Tasks saved. Exiting.\")\n",
    "            break\n",
    "        else:\n",
    "            print(\"Invalid option, try again.\")\n",
    "\n",
    "if __name__ == \"__main__\":\n",
    "    main()\n"
   ]
  },
  {
   "cell_type": "code",
   "execution_count": null,
   "id": "4e89f91e",
   "metadata": {},
   "outputs": [],
   "source": []
  }
 ],
 "metadata": {
  "kernelspec": {
   "display_name": "Python 3 (ipykernel)",
   "language": "python",
   "name": "python3"
  },
  "language_info": {
   "codemirror_mode": {
    "name": "ipython",
    "version": 3
   },
   "file_extension": ".py",
   "mimetype": "text/x-python",
   "name": "python",
   "nbconvert_exporter": "python",
   "pygments_lexer": "ipython3",
   "version": "3.10.9"
  }
 },
 "nbformat": 4,
 "nbformat_minor": 5
}
